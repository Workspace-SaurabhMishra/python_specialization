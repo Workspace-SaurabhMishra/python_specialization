{
 "cells": [
  {
   "cell_type": "code",
   "execution_count": null,
   "metadata": {},
   "outputs": [],
   "source": [
    "from tkinter import *\n",
    "class pop:\n",
    "    def __init__(self):\n",
    "        self.root=Tk()\n",
    "        self.root.geometry(\"400x300\")\n",
    "\n",
    "    def button(self,b_name):\n",
    "        self.e1=Entry(self.root)\n",
    "        self.e1.pack()\n",
    "        self.b1=Button(self.root,text=b_name)\n",
    "        self.b1.pack()\n",
    "        return self.e1\n",
    "\n",
    "\n",
    "    \n"
   ]
  }
 ],
 "metadata": {
  "kernelspec": {
   "display_name": "Python 3",
   "language": "python",
   "name": "python3"
  },
  "language_info": {
   "codemirror_mode": {
    "name": "ipython",
    "version": 3
   },
   "file_extension": ".py",
   "mimetype": "text/x-python",
   "name": "python",
   "nbconvert_exporter": "python",
   "pygments_lexer": "ipython3",
   "version": "3.6.9"
  }
 },
 "nbformat": 4,
 "nbformat_minor": 4
}
