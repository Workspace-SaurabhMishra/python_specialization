{
 "cells": [
  {
   "cell_type": "code",
   "execution_count": 1,
   "metadata": {},
   "outputs": [],
   "source": [
    "from tkinter import *\n",
    "from pop import *\n",
    "from new import *\n",
    "root=Tk()\n",
    "root.title(\"DB Browser\")\n",
    "root.geometry(\"800x600\")\n",
    "root.minsize(800,600)\n",
    "root.maxsize(800,600)\n",
    "\n",
    "def _1():\n",
    "    l6.destroy()\n",
    "    New()\n",
    "\n",
    "######ALL TEXTS###########\n",
    "l1=Label(text=\"   \")\n",
    "l1.grid(row=\"4\",column=\"4\")\n",
    "l2=Label(text=\"   \")\n",
    "l2.grid(row=\"5\",column=\"4\")\n",
    "l3=Label(text=\"   \")\n",
    "l3.grid(row=\"6\",column=\"5\")\n",
    "l4=Label(text=\"   \")\n",
    "l4.grid(row=\"7\",column=\"5\")\n",
    "l5=Label(text=\"   \")\n",
    "l5.grid(row=\"8\",column=\"5\")\n",
    "l6=Label(text=\"Open Source Project For DataBase Browsing\"+\"\\n\"+\"By SAURABH MISHRA\")\n",
    "l6.grid(row=\"9\",column=\"4\")\n",
    "\n",
    "\n",
    "#######ALL BUTTONS########\n",
    "b1=Button(text=\"New\",command=_1)\n",
    "b1.grid(row=\"0\",column=\"0\",sticky=\"W\")\n",
    "b2=Button(text=\"Open\")\n",
    "b2.grid(row=\"0\",column=\"1\",sticky=\"W\")\n",
    "b3=Button(text=\"Save\")\n",
    "b3.grid(row=\"0\",column=\"2\",sticky=\"W\")\n",
    "b4=Button(text=\"Advance Settings\")\n",
    "b4.grid(row=\"0\",column=\"3\",sticky=\"W\")\n",
    "\n",
    "\n",
    "root .mainloop()\n"
   ]
  },
  {
   "cell_type": "code",
   "execution_count": null,
   "metadata": {},
   "outputs": [],
   "source": []
  }
 ],
 "metadata": {
  "kernelspec": {
   "display_name": "Python 3",
   "language": "python",
   "name": "python3"
  },
  "language_info": {
   "codemirror_mode": {
    "name": "ipython",
    "version": 3
   },
   "file_extension": ".py",
   "mimetype": "text/x-python",
   "name": "python",
   "nbconvert_exporter": "python",
   "pygments_lexer": "ipython3",
   "version": "3.6.9"
  }
 },
 "nbformat": 4,
 "nbformat_minor": 4
}
